{
  "nbformat": 4,
  "nbformat_minor": 0,
  "metadata": {
    "colab": {
      "provenance": [],
      "authorship_tag": "ABX9TyP6h8vlGKkua4pTEqRZ6Bvq",
      "include_colab_link": true
    },
    "kernelspec": {
      "name": "python3",
      "display_name": "Python 3"
    },
    "language_info": {
      "name": "python"
    }
  },
  "cells": [
    {
      "cell_type": "markdown",
      "metadata": {
        "id": "view-in-github",
        "colab_type": "text"
      },
      "source": [
        "<a href=\"https://colab.research.google.com/github/AryanSathish3/AIML2025/blob/main/random.ipynb\" target=\"_parent\"><img src=\"https://colab.research.google.com/assets/colab-badge.svg\" alt=\"Open In Colab\"/></a>"
      ]
    },
    {
      "cell_type": "code",
      "execution_count": null,
      "metadata": {
        "colab": {
          "base_uri": "https://localhost:8080/"
        },
        "id": "HMTalPZ6qFlV",
        "outputId": "7ff08f27-725d-4a4e-f2f2-47f4bb6a6e59"
      },
      "outputs": [
        {
          "output_type": "stream",
          "name": "stdout",
          "text": [
            "All the rooms are dirty\n",
            "[[1, 1, 1, 1], [1, 1, 1, 1], [1, 1, 1, 1], [1, 1, 1, 1]]\n",
            "Before cleaning the room I detect all these random dirts\n",
            "[[0, 1, 1, 0], [1, 0, 1, 0], [1, 1, 0, 1], [0, 0, 0, 0]]\n",
            "Vacuum in this location now: 0 1\n",
            "Cleaned 0 1\n",
            "Vacuum in this location now: 0 2\n",
            "Cleaned 0 2\n",
            "Vacuum in this location now: 1 0\n",
            "Cleaned 1 0\n",
            "Vacuum in this location now: 1 2\n",
            "Cleaned 1 2\n",
            "Vacuum in this location now: 2 0\n",
            "Cleaned 2 0\n",
            "Vacuum in this location now: 2 1\n",
            "Cleaned 2 1\n",
            "Vacuum in this location now: 2 3\n",
            "Cleaned 2 3\n",
            "Room is clean now. Thanks for using the Robot Vacuum Cleaner\n",
            "[[0, 0, 0, 0], [0, 0, 0, 0], [0, 0, 0, 0], [0, 0, 0, 0]]\n",
            "Performance= 56.25 %\n"
          ]
        }
      ],
      "source": [
        "import random\n",
        "def display(room):\n",
        "    print(room)\n",
        "room=[\n",
        "    [1,1,1,1],\n",
        "    [1,1,1,1],\n",
        "    [1,1,1,1],\n",
        "    [1,1,1,1],\n",
        "    ]\n",
        "print(\"All the rooms are dirty\")\n",
        "display(room)\n",
        "x=0\n",
        "y=0\n",
        "while x<4:\n",
        "    while y<4:\n",
        "        room[x][y]=random.choice([0,1])\n",
        "        y+=1\n",
        "    x+=1\n",
        "    y=0\n",
        "print(\"Before cleaning the room I detect all these random dirts\")\n",
        "display(room)\n",
        "x=0\n",
        "y=0\n",
        "z=0\n",
        "while x<4:\n",
        "    while y<4:\n",
        "        if room[x][y]==1:\n",
        "            print(\"Vacuum in this location now:\",x,y)\n",
        "            room[x][y]=0\n",
        "            print(\"Cleaned\",x,y)\n",
        "            z+=1\n",
        "        y+=1\n",
        "    x+=1\n",
        "    y=0\n",
        "performance=(100-((z/16)*100))\n",
        "print(\"Room is clean now. Thanks for using the Robot Vacuum Cleaner\")\n",
        "display(room)\n",
        "print(\"Performance=\",performance,\"%\")\n"
      ]
    }
  ]
}